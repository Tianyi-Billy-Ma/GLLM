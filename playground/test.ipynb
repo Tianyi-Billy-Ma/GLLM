{
 "cells": [
  {
   "cell_type": "code",
   "execution_count": 36,
   "metadata": {},
   "outputs": [],
   "source": [
    "from transformers import AutoTokenizer, RagRetriever, RagModel\n",
    "import transformers\n",
    "import torch\n",
    "import numpy as np\n",
    "import pandas as pd\n",
    "from scipy.io.arff import loadarff\n",
    "from datasets import load_dataset, concatenate_datasets\n",
    "from langchain import HuggingFacePipeline\n",
    "import os, os.path as osp\n",
    "device = \"cuda:0\" if torch.cuda.is_available() else \"cpu\"\n"
   ]
  },
  {
   "cell_type": "code",
   "execution_count": 5,
   "metadata": {},
   "outputs": [],
   "source": [
    "root_dir = os.getcwd()\n",
    "data_dir = osp.join(root_dir, \"data\")\n",
    "raw_data_dir = osp.join(data_dir, \"raw\")\n",
    "dataset_path = osp.join(raw_data_dir, \"bank\")"
   ]
  },
  {
   "cell_type": "code",
   "execution_count": 3,
   "metadata": {},
   "outputs": [],
   "source": [
    "data = load_dataset(\"wikitablequestions\", trust_remote_code=True)"
   ]
  },
  {
   "cell_type": "code",
   "execution_count": 13,
   "metadata": {},
   "outputs": [],
   "source": [
    "data = concatenate_datasets([data[\"train\"], data[\"validation\"], data[\"test\"]])"
   ]
  },
  {
   "cell_type": "code",
   "execution_count": 43,
   "metadata": {},
   "outputs": [],
   "source": [
    "def stat_tables(dataset):\n",
    "    num_tabs = len(dataset)\n",
    "    num_cols = [len(d[\"table\"][\"header\"]) for d in data]\n",
    "    num_rows = [len(d[\"table\"][\"rows\"]) for d in data]\n",
    "    \n",
    "    avg_cols, avg_rows = np.mean(num_cols), np.mean(num_rows)\n",
    "    min_cols, min_rows = np.min(num_cols), np.min(num_rows)\n",
    "    max_cols, max_rows = np.max(num_cols), np.max(num_rows)\n",
    "    \n",
    "    print(f\"Number of tables: {num_tabs}\")\n",
    "    print(f\"Average number of cols/rows: {avg_cols:.2f}/{avg_rows:.2f}\")\n",
    "    print(f\"Max number of cols/rows: {max_cols:.2f}/{max_rows:.2f}\")\n",
    "    print(f\"Min number of cols/rows: {min_cols:.2f}/{min_rows:.2f}\")\n",
    "    \n",
    "    "
   ]
  },
  {
   "cell_type": "code",
   "execution_count": 45,
   "metadata": {},
   "outputs": [
    {
     "name": "stdout",
     "output_type": "stream",
     "text": [
      "Number of tables: 18496\n",
      "Average number of cols/rows: 6.35/25.38\n",
      "Max number of cols/rows: 25.00/753.00\n",
      "Min number of cols/rows: 3.00/4.00\n"
     ]
    }
   ],
   "source": [
    "stat_tables(data)"
   ]
  },
  {
   "cell_type": "code",
   "execution_count": 49,
   "metadata": {},
   "outputs": [
    {
     "name": "stdout",
     "output_type": "stream",
     "text": [
      "{'id': 'nt-223', 'question': 'when was the benetton b198 chassis used?', 'answers': ['1998'], 'table': {'header': ['Year', 'Entrant', 'Chassis', 'Engine', 'Tyres', 'Drivers', '1', '2', '3', '4', '5', '6', '7', '8', '9', '10', '11', '12', '13', '14', '15', '16', '17', 'Points', 'WCC'], 'rows': [['1998', 'Mild Seven Benetton', 'Benetton B198', 'GC37-01 V10', 'B', '', 'AUS', 'BRA', 'ARG', 'SMR', 'ESP', 'MON', 'CAN', 'FRA', 'GBR', 'AUT', 'GER', 'HUN', 'BEL', 'ITA', 'LUX', 'JPN', '', '33', '5th'], ['1998', 'Mild Seven Benetton', 'Benetton B198', 'GC37-01 V10', 'B', 'Giancarlo Fisichella', 'Ret', '6', '7', 'Ret', 'Ret', '2', '2', '9', '5', 'Ret', '7', '8', 'Ret', '8', '6', '8', '', '33', '5th'], ['1998', 'Mild Seven Benetton', 'Benetton B198', 'GC37-01 V10', 'B', 'Alexander Wurz', '7', '4', '4', 'Ret', '4', 'Ret', '4', '5', '4', '9', '11', '16', 'Ret', 'Ret', '7', '9', '', '33', '5th'], ['1999', 'Mild Seven Benetton', 'Benetton B199', 'FB01 V10', 'B', '', 'AUS', 'BRA', 'SMR', 'MON', 'ESP', 'CAN', 'FRA', 'GBR', 'AUT', 'GER', 'HUN', 'BEL', 'ITA', 'EUR', 'MAL', 'JPN', '', '16', '6th'], ['1999', 'Mild Seven Benetton', 'Benetton B199', 'FB01 V10', 'B', 'Giancarlo Fisichella', '4', 'Ret', '5', '5', '9', '2', 'Ret', '7', '12', 'Ret', 'Ret', '11', 'Ret', 'Ret', '11', '14', '', '16', '6th'], ['1999', 'Mild Seven Benetton', 'Benetton B199', 'FB01 V10', 'B', 'Alexander Wurz', 'Ret', '7', 'Ret', '6', '10', 'Ret', 'Ret', '10', '5', '7', '7', '14', 'Ret', 'Ret', '8', '10', '', '16', '6th'], ['2000', 'Mild Seven Benetton', 'Benetton B200', 'FB02 V10', 'B', '', 'AUS', 'BRA', 'SMR', 'GBR', 'ESP', 'EUR', 'MON', 'CAN', 'FRA', 'AUT', 'GER', 'HUN', 'BEL', 'ITA', 'USA', 'JPN', 'MAL', '20', '4th'], ['2000', 'Mild Seven Benetton', 'Benetton B200', 'FB02 V10', 'B', 'Giancarlo Fisichella', '5', '2', '11', '7', '9', '5', '3', '3', '9', 'Ret', 'Ret', 'Ret', 'Ret', '11', 'Ret', '14', '9', '20', '4th'], ['2000', 'Mild Seven Benetton', 'Benetton B200', 'FB02 V10', 'B', 'Alexander Wurz', '7', 'Ret', '9', '9', '10', '12', 'Ret', '9', 'Ret', '10', 'Ret', '11', '13', '5', '10', 'Ret', '7', '20', '4th']], 'name': 'csv/202-csv/294.tsv'}}\n"
     ]
    }
   ],
   "source": [
    "for d in data:\n",
    "    table = d[\"table\"]\n",
    "    if len(table[\"header\"]) > 20:\n",
    "        print(d)\n",
    "        break\n",
    "    \n",
    "    # elif len(table[\"rows\"]) > 300:\n",
    "    #     print(table[\"header\"])\n",
    "    #     print(table[\"rows\"])"
   ]
  },
  {
   "cell_type": "code",
   "execution_count": 51,
   "metadata": {},
   "outputs": [
    {
     "name": "stdout",
     "output_type": "stream",
     "text": [
      "{'id': 'nt-223', 'question': 'when was the benetton b198 chassis used?', 'answers': ['1998'], 'table': {'header': ['Year', 'Entrant', 'Chassis', 'Engine', 'Tyres', 'Drivers', '1', '2', '3', '4', '5', '6', '7', '8', '9', '10', '11', '12', '13', '14', '15', '16', '17', 'Points', 'WCC'], 'rows': [['1998', 'Mild Seven Benetton', 'Benetton B198', 'GC37-01 V10', 'B', '', 'AUS', 'BRA', 'ARG', 'SMR', 'ESP', 'MON', 'CAN', 'FRA', 'GBR', 'AUT', 'GER', 'HUN', 'BEL', 'ITA', 'LUX', 'JPN', '', '33', '5th'], ['1998', 'Mild Seven Benetton', 'Benetton B198', 'GC37-01 V10', 'B', 'Giancarlo Fisichella', 'Ret', '6', '7', 'Ret', 'Ret', '2', '2', '9', '5', 'Ret', '7', '8', 'Ret', '8', '6', '8', '', '33', '5th'], ['1998', 'Mild Seven Benetton', 'Benetton B198', 'GC37-01 V10', 'B', 'Alexander Wurz', '7', '4', '4', 'Ret', '4', 'Ret', '4', '5', '4', '9', '11', '16', 'Ret', 'Ret', '7', '9', '', '33', '5th'], ['1999', 'Mild Seven Benetton', 'Benetton B199', 'FB01 V10', 'B', '', 'AUS', 'BRA', 'SMR', 'MON', 'ESP', 'CAN', 'FRA', 'GBR', 'AUT', 'GER', 'HUN', 'BEL', 'ITA', 'EUR', 'MAL', 'JPN', '', '16', '6th'], ['1999', 'Mild Seven Benetton', 'Benetton B199', 'FB01 V10', 'B', 'Giancarlo Fisichella', '4', 'Ret', '5', '5', '9', '2', 'Ret', '7', '12', 'Ret', 'Ret', '11', 'Ret', 'Ret', '11', '14', '', '16', '6th'], ['1999', 'Mild Seven Benetton', 'Benetton B199', 'FB01 V10', 'B', 'Alexander Wurz', 'Ret', '7', 'Ret', '6', '10', 'Ret', 'Ret', '10', '5', '7', '7', '14', 'Ret', 'Ret', '8', '10', '', '16', '6th'], ['2000', 'Mild Seven Benetton', 'Benetton B200', 'FB02 V10', 'B', '', 'AUS', 'BRA', 'SMR', 'GBR', 'ESP', 'EUR', 'MON', 'CAN', 'FRA', 'AUT', 'GER', 'HUN', 'BEL', 'ITA', 'USA', 'JPN', 'MAL', '20', '4th'], ['2000', 'Mild Seven Benetton', 'Benetton B200', 'FB02 V10', 'B', 'Giancarlo Fisichella', '5', '2', '11', '7', '9', '5', '3', '3', '9', 'Ret', 'Ret', 'Ret', 'Ret', '11', 'Ret', '14', '9', '20', '4th'], ['2000', 'Mild Seven Benetton', 'Benetton B200', 'FB02 V10', 'B', 'Alexander Wurz', '7', 'Ret', '9', '9', '10', '12', 'Ret', '9', 'Ret', '10', 'Ret', '11', '13', '5', '10', 'Ret', '7', '20', '4th']], 'name': 'csv/202-csv/294.tsv'}}\n",
      "{'id': 'nt-3436', 'question': 'in what year did the highest number of points occur?', 'answers': ['1998'], 'table': {'header': ['Year', 'Entrant', 'Chassis', 'Engine', 'Tyres', 'Drivers', '1', '2', '3', '4', '5', '6', '7', '8', '9', '10', '11', '12', '13', '14', '15', '16', '17', 'Points', 'WCC'], 'rows': [['1998', 'Mild Seven Benetton', 'Benetton B198', 'GC37-01 V10', 'B', '', 'AUS', 'BRA', 'ARG', 'SMR', 'ESP', 'MON', 'CAN', 'FRA', 'GBR', 'AUT', 'GER', 'HUN', 'BEL', 'ITA', 'LUX', 'JPN', '', '33', '5th'], ['1998', 'Mild Seven Benetton', 'Benetton B198', 'GC37-01 V10', 'B', 'Giancarlo Fisichella', 'Ret', '6', '7', 'Ret', 'Ret', '2', '2', '9', '5', 'Ret', '7', '8', 'Ret', '8', '6', '8', '', '33', '5th'], ['1998', 'Mild Seven Benetton', 'Benetton B198', 'GC37-01 V10', 'B', 'Alexander Wurz', '7', '4', '4', 'Ret', '4', 'Ret', '4', '5', '4', '9', '11', '16', 'Ret', 'Ret', '7', '9', '', '33', '5th'], ['1999', 'Mild Seven Benetton', 'Benetton B199', 'FB01 V10', 'B', '', 'AUS', 'BRA', 'SMR', 'MON', 'ESP', 'CAN', 'FRA', 'GBR', 'AUT', 'GER', 'HUN', 'BEL', 'ITA', 'EUR', 'MAL', 'JPN', '', '16', '6th'], ['1999', 'Mild Seven Benetton', 'Benetton B199', 'FB01 V10', 'B', 'Giancarlo Fisichella', '4', 'Ret', '5', '5', '9', '2', 'Ret', '7', '12', 'Ret', 'Ret', '11', 'Ret', 'Ret', '11', '14', '', '16', '6th'], ['1999', 'Mild Seven Benetton', 'Benetton B199', 'FB01 V10', 'B', 'Alexander Wurz', 'Ret', '7', 'Ret', '6', '10', 'Ret', 'Ret', '10', '5', '7', '7', '14', 'Ret', 'Ret', '8', '10', '', '16', '6th'], ['2000', 'Mild Seven Benetton', 'Benetton B200', 'FB02 V10', 'B', '', 'AUS', 'BRA', 'SMR', 'GBR', 'ESP', 'EUR', 'MON', 'CAN', 'FRA', 'AUT', 'GER', 'HUN', 'BEL', 'ITA', 'USA', 'JPN', 'MAL', '20', '4th'], ['2000', 'Mild Seven Benetton', 'Benetton B200', 'FB02 V10', 'B', 'Giancarlo Fisichella', '5', '2', '11', '7', '9', '5', '3', '3', '9', 'Ret', 'Ret', 'Ret', 'Ret', '11', 'Ret', '14', '9', '20', '4th'], ['2000', 'Mild Seven Benetton', 'Benetton B200', 'FB02 V10', 'B', 'Alexander Wurz', '7', 'Ret', '9', '9', '10', '12', 'Ret', '9', 'Ret', '10', 'Ret', '11', '13', '5', '10', 'Ret', '7', '20', '4th']], 'name': 'csv/202-csv/294.tsv'}}\n"
     ]
    }
   ],
   "source": [
    "for d in data:\n",
    "    table = d[\"table\"]\n",
    "    if \"EUR\" in table[\"header\"]:\n",
    "        print(d)\n",
    "        break\n",
    "    for row in table[\"rows\"]:\n",
    "        if \"EUR\" in row:\n",
    "            print(d)\n",
    "            break"
   ]
  },
  {
   "cell_type": "code",
   "execution_count": 57,
   "metadata": {},
   "outputs": [
    {
     "ename": "AttributeError",
     "evalue": "'list' object has no attribute 'iterrow'",
     "output_type": "error",
     "traceback": [
      "\u001b[0;31m---------------------------------------------------------------------------\u001b[0m",
      "\u001b[0;31mAttributeError\u001b[0m                            Traceback (most recent call last)",
      "Cell \u001b[0;32mIn[57], line 1\u001b[0m\n\u001b[0;32m----> 1\u001b[0m \u001b[38;5;28;01mfor\u001b[39;00m row, col \u001b[38;5;129;01min\u001b[39;00m \u001b[43mdata\u001b[49m\u001b[43m[\u001b[49m\u001b[38;5;241;43m0\u001b[39;49m\u001b[43m]\u001b[49m\u001b[43m[\u001b[49m\u001b[38;5;124;43m\"\u001b[39;49m\u001b[38;5;124;43mtable\u001b[39;49m\u001b[38;5;124;43m\"\u001b[39;49m\u001b[43m]\u001b[49m\u001b[43m[\u001b[49m\u001b[38;5;124;43m\"\u001b[39;49m\u001b[38;5;124;43mrows\u001b[39;49m\u001b[38;5;124;43m\"\u001b[39;49m\u001b[43m]\u001b[49m\u001b[38;5;241;43m.\u001b[39;49m\u001b[43miterrow\u001b[49m():\n\u001b[1;32m      2\u001b[0m     \u001b[38;5;28mprint\u001b[39m(row, col)\n\u001b[1;32m      3\u001b[0m     \u001b[38;5;28;01mbreak\u001b[39;00m\n",
      "\u001b[0;31mAttributeError\u001b[0m: 'list' object has no attribute 'iterrow'"
     ]
    }
   ],
   "source": [
    "for row, col in data[0][\"table\"][\"rows\"].iterrow():\n",
    "    print(row, col)\n",
    "    break"
   ]
  },
  {
   "cell_type": "code",
   "execution_count": 67,
   "metadata": {},
   "outputs": [],
   "source": [
    "unique_tables = []\n",
    "unique_tnames = set()\n",
    "for row in data:\n",
    "    tname = row[\"table\"][\"name\"]\n",
    "    if tname not in unique_tnames:\n",
    "        unique_tnames.add(tname)\n",
    "        unique_tables.append(row[\"table\"])"
   ]
  },
  {
   "cell_type": "code",
   "execution_count": 70,
   "metadata": {},
   "outputs": [],
   "source": [
    "num_nodes,num_hyperedges = 0, 0\n",
    "for table in unique_tables:\n",
    "    num_nodes += len(table[\"header\"]) * len(table[\"rows\"])\n",
    "    num_hyperedges += len(table[\"header\"])  +len(table[\"rows\"])"
   ]
  },
  {
   "cell_type": "code",
   "execution_count": 71,
   "metadata": {},
   "outputs": [
    {
     "data": {
      "text/plain": [
       "(363509, 71000)"
      ]
     },
     "execution_count": 71,
     "metadata": {},
     "output_type": "execute_result"
    }
   ],
   "source": [
    "num_nodes, num_hyperedges"
   ]
  },
  {
   "cell_type": "code",
   "execution_count": 75,
   "metadata": {},
   "outputs": [
    {
     "data": {
      "text/plain": [
       "dict_keys(['id', 'question', 'answers', 'table'])"
      ]
     },
     "execution_count": 75,
     "metadata": {},
     "output_type": "execute_result"
    }
   ],
   "source": [
    "row.keys()"
   ]
  },
  {
   "cell_type": "code",
   "execution_count": 5,
   "metadata": {},
   "outputs": [
    {
     "name": "stderr",
     "output_type": "stream",
     "text": [
      "/home/mtybilly/anaconda3/envs/llm/lib/python3.11/site-packages/torch_geometric/data/storage.py:327: UserWarning: Unable to accurately infer 'num_nodes' from the attribute set '{'x_s', 'edge_index', 'x_t'}'. Please explicitly set 'num_nodes' as an attribute of 'data' to suppress this warning\n",
      "  warnings.warn(\n"
     ]
    }
   ],
   "source": [
    "import torch\n",
    "from torch_geometric.loader import DataLoader\n",
    "from torch_geometric.data import Data\n",
    "class BipartiteData(Data):\n",
    "    pass\n",
    "x_s = torch.randn(2, 16)  # 2 nodes.\n",
    "x_t = torch.randn(3, 16)  # 3 nodes.\n",
    "edge_index = torch.tensor([\n",
    "    [0, 0, 1, 1],\n",
    "    [0, 1, 1, 2],\n",
    "])\n",
    "\n",
    "data = BipartiteData(x_s=x_s, x_t=x_t, edge_index=edge_index)\n",
    "\n",
    "data_list = [data, data]\n",
    "loader = DataLoader(data_list, batch_size=2)\n",
    "batch = next(iter(loader))"
   ]
  },
  {
   "cell_type": "code",
   "execution_count": 7,
   "metadata": {},
   "outputs": [
    {
     "data": {
      "text/plain": [
       "tensor([[0, 0, 1, 1, 3, 3, 4, 4],\n",
       "        [0, 1, 1, 2, 3, 4, 4, 5]])"
      ]
     },
     "execution_count": 7,
     "metadata": {},
     "output_type": "execute_result"
    }
   ],
   "source": [
    "batch.edge_index"
   ]
  },
  {
   "cell_type": "code",
   "execution_count": null,
   "metadata": {},
   "outputs": [],
   "source": []
  }
 ],
 "metadata": {
  "kernelspec": {
   "display_name": "llm",
   "language": "python",
   "name": "python3"
  },
  "language_info": {
   "codemirror_mode": {
    "name": "ipython",
    "version": 3
   },
   "file_extension": ".py",
   "mimetype": "text/x-python",
   "name": "python",
   "nbconvert_exporter": "python",
   "pygments_lexer": "ipython3",
   "version": "3.11.5"
  }
 },
 "nbformat": 4,
 "nbformat_minor": 2
}
