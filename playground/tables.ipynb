{
 "cells": [
  {
   "cell_type": "code",
   "execution_count": 24,
   "metadata": {},
   "outputs": [],
   "source": [
    "import os\n",
    "import sys\n",
    "from pathlib import Path\n",
    "import os.path as osp\n",
    "sys.path.append(osp.join(os.getcwd(), \"..\"))\n",
    "from src import load_pickle\n",
    "import pandas as pd\n",
    "# sys.path.append(str(Path(__file__).resolve().parent.parent))\n",
    "# from src import load_pickle"
   ]
  },
  {
   "cell_type": "code",
   "execution_count": 25,
   "metadata": {},
   "outputs": [],
   "source": [
    "root_dir = \"/media/mtybilly/My Passport1/Program/GLLM/\"\n",
    "data_dir = osp.join(root_dir, \"data\")\n",
    "process_dir = osp.join(data_dir, \"processed\")\n",
    "table_dir = osp.join(process_dir, \"wikitablequestions\", \"pretrain\", \"plaintext_tables.pickle\")"
   ]
  },
  {
   "cell_type": "code",
   "execution_count": 26,
   "metadata": {},
   "outputs": [],
   "source": [
    "input_data = load_pickle(table_dir)\n",
    "tables = input_data[\"tables\"]\n",
    "qas = input_data[\"qas\"]"
   ]
  },
  {
   "cell_type": "code",
   "execution_count": 47,
   "metadata": {},
   "outputs": [
    {
     "data": {
      "text/html": [
       "<div>\n",
       "<style scoped>\n",
       "    .dataframe tbody tr th:only-of-type {\n",
       "        vertical-align: middle;\n",
       "    }\n",
       "\n",
       "    .dataframe tbody tr th {\n",
       "        vertical-align: top;\n",
       "    }\n",
       "\n",
       "    .dataframe thead th {\n",
       "        text-align: right;\n",
       "    }\n",
       "</style>\n",
       "<table border=\"1\" class=\"dataframe\">\n",
       "  <thead>\n",
       "    <tr style=\"text-align: right;\">\n",
       "      <th></th>\n",
       "      <th>Year</th>\n",
       "      <th>Competition</th>\n",
       "      <th>Venue</th>\n",
       "      <th>Position</th>\n",
       "      <th>Notes</th>\n",
       "    </tr>\n",
       "  </thead>\n",
       "  <tbody>\n",
       "    <tr>\n",
       "      <th>0</th>\n",
       "      <td>1996</td>\n",
       "      <td>Olympic Games</td>\n",
       "      <td>Atlanta, United States</td>\n",
       "      <td>36th (q)</td>\n",
       "      <td>5.55 m</td>\n",
       "    </tr>\n",
       "    <tr>\n",
       "      <th>1</th>\n",
       "      <td>1998</td>\n",
       "      <td>Asian Games</td>\n",
       "      <td>Bangkok, Thailand</td>\n",
       "      <td>8th</td>\n",
       "      <td>6.07 m</td>\n",
       "    </tr>\n",
       "    <tr>\n",
       "      <th>2</th>\n",
       "      <td>1999</td>\n",
       "      <td>World Championships</td>\n",
       "      <td>Seville, Spain</td>\n",
       "      <td>23rd (q)</td>\n",
       "      <td>6.40 m</td>\n",
       "    </tr>\n",
       "    <tr>\n",
       "      <th>3</th>\n",
       "      <td>2000</td>\n",
       "      <td>Olympic Games</td>\n",
       "      <td>Sydney, Australia</td>\n",
       "      <td>14th (q)</td>\n",
       "      <td>6.57 m</td>\n",
       "    </tr>\n",
       "    <tr>\n",
       "      <th>4</th>\n",
       "      <td>2001</td>\n",
       "      <td>World Championships</td>\n",
       "      <td>Edmonton, Canada</td>\n",
       "      <td>13th (q)</td>\n",
       "      <td>6.46 m</td>\n",
       "    </tr>\n",
       "    <tr>\n",
       "      <th>5</th>\n",
       "      <td>2002</td>\n",
       "      <td>Asian Championships</td>\n",
       "      <td>Colombo, Sri Lanka</td>\n",
       "      <td>1st</td>\n",
       "      <td>6.61 m</td>\n",
       "    </tr>\n",
       "    <tr>\n",
       "      <th>6</th>\n",
       "      <td>2002</td>\n",
       "      <td>Asian Games</td>\n",
       "      <td>Busan, South Korea</td>\n",
       "      <td>3rd</td>\n",
       "      <td>6.30 m</td>\n",
       "    </tr>\n",
       "    <tr>\n",
       "      <th>7</th>\n",
       "      <td>2003</td>\n",
       "      <td>World Championships</td>\n",
       "      <td>Paris, France</td>\n",
       "      <td>23rd (q)</td>\n",
       "      <td>6.13 m</td>\n",
       "    </tr>\n",
       "    <tr>\n",
       "      <th>8</th>\n",
       "      <td>2003</td>\n",
       "      <td>Asian Championships</td>\n",
       "      <td>Manila, Philippines</td>\n",
       "      <td>6th</td>\n",
       "      <td>6.23 m</td>\n",
       "    </tr>\n",
       "    <tr>\n",
       "      <th>9</th>\n",
       "      <td>2004</td>\n",
       "      <td>Olympic Games</td>\n",
       "      <td>Athens, Greece</td>\n",
       "      <td>11th</td>\n",
       "      <td>6.53 m</td>\n",
       "    </tr>\n",
       "  </tbody>\n",
       "</table>\n",
       "</div>"
      ],
      "text/plain": [
       "   Year          Competition                   Venue  Position   Notes\n",
       "0  1996        Olympic Games  Atlanta, United States  36th (q)  5.55 m\n",
       "1  1998          Asian Games       Bangkok, Thailand       8th  6.07 m\n",
       "2  1999  World Championships          Seville, Spain  23rd (q)  6.40 m\n",
       "3  2000        Olympic Games       Sydney, Australia  14th (q)  6.57 m\n",
       "4  2001  World Championships        Edmonton, Canada  13th (q)  6.46 m\n",
       "5  2002  Asian Championships      Colombo, Sri Lanka       1st  6.61 m\n",
       "6  2002          Asian Games      Busan, South Korea       3rd  6.30 m\n",
       "7  2003  World Championships           Paris, France  23rd (q)  6.13 m\n",
       "8  2003  Asian Championships     Manila, Philippines       6th  6.23 m\n",
       "9  2004        Olympic Games          Athens, Greece      11th  6.53 m"
      ]
     },
     "execution_count": 47,
     "metadata": {},
     "output_type": "execute_result"
    }
   ],
   "source": [
    "table = tables[\"table_7\"]\n",
    "df = pd.DataFrame(table[\"rows\"], columns=table[\"header\"])\n",
    "df"
   ]
  },
  {
   "cell_type": "code",
   "execution_count": 33,
   "metadata": {},
   "outputs": [],
   "source": []
  },
  {
   "cell_type": "code",
   "execution_count": 46,
   "metadata": {},
   "outputs": [
    {
     "name": "stdout",
     "output_type": "stream",
     "text": [
      "Title: [TST] Performance History of a Soccer Team in US Leagues (2001-2010) [TED] \n",
      "Summary: [SST] This table provides a detailed overview of a soccer team's performance in various US leagues from 2001 to 2010. The team's division, league, regular season standings, playoff results, Open Cup participation, and average attendance figures are included for each year. The team's journey from the USL A-League to the USSF D-2 Pro League is highlighted, showcasing their progress and achievements over the years. [SED]\n"
     ]
    }
   ],
   "source": [
    "print(f\"Title: {table['title']} \\nSummary: {table['summary']}\")"
   ]
  },
  {
   "cell_type": "code",
   "execution_count": null,
   "metadata": {},
   "outputs": [],
   "source": []
  }
 ],
 "metadata": {
  "kernelspec": {
   "display_name": "llm",
   "language": "python",
   "name": "python3"
  },
  "language_info": {
   "codemirror_mode": {
    "name": "ipython",
    "version": 3
   },
   "file_extension": ".py",
   "mimetype": "text/x-python",
   "name": "python",
   "nbconvert_exporter": "python",
   "pygments_lexer": "ipython3",
   "version": "3.11.5"
  }
 },
 "nbformat": 4,
 "nbformat_minor": 2
}
